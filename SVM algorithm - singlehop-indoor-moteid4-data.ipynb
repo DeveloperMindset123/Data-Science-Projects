{
 "cells": [
  {
   "cell_type": "code",
   "execution_count": 1,
   "id": "037b9c6f",
   "metadata": {},
   "outputs": [
    {
     "name": "stdout",
     "output_type": "stream",
     "text": [
      "      Reading#  Mote-ID      H      T  Label\n",
      "0            1        1  45.93  27.97      0\n",
      "1            2        1  45.90  27.95      0\n",
      "2            3        1  45.90  27.96      0\n",
      "3            4        1  45.93  27.95      0\n",
      "4            5        1  45.93  27.97      0\n",
      "...        ...      ...    ...    ...    ...\n",
      "4412      4413        1  42.62  27.04      0\n",
      "4413      4414        1  42.62  27.04      0\n",
      "4414      4415        1  42.62  27.05      0\n",
      "4415      4416        1  42.62  27.05      0\n",
      "4416      4417        1  42.62  27.05      0\n",
      "\n",
      "[4417 rows x 5 columns]\n",
      "              precision    recall  f1-score   support\n",
      "\n",
      "           0       1.00      1.00      1.00      1289\n",
      "           1       1.00      1.00      1.00        37\n",
      "\n",
      "    accuracy                           1.00      1326\n",
      "   macro avg       1.00      1.00      1.00      1326\n",
      "weighted avg       1.00      1.00      1.00      1326\n",
      "\n"
     ]
    },
    {
     "data": {
      "image/png": "[encoded data removed]",
      "text/plain": [
       "<Figure size 432x288 with 1 Axes>"
      ]
     },
     "metadata": {
      "needs_background": "light"
     },
     "output_type": "display_data"
    }
   ],
   "source": [
    "#The code starts here\n",
    "#import the libraries that we will be using\n",
    "import numpy as np\n",
    "import pandas as pd\n",
    "import matplotlib.pyplot as plt\n",
    "#libraries specific to svm\n",
    "from sklearn.model_selection import train_test_split\n",
    "from sklearn import svm\n",
    "from sklearn.metrics import classification_report\n",
    "\n",
    "\n",
    "#Load our CSV file - the only line of code that needs to be changed\n",
    "single_hop_data = pd.read_csv('singlehop-indoor-moteid4-data.csv')\n",
    "print(single_hop_data)    #For code inspection purposes\n",
    "\n",
    "columns_of_relevance, columns_for_training, dependent_labels = single_hop_data[['H','T','Label']], single_hop_data[['H','T']], single_hop_data['Label']\n",
    "#now we need the associated values that correlates with the proper column\n",
    "\n",
    "#recall the values method is used to list out all the values in a dictionary while not including the keys\n",
    "characteristic = single_hop_data[list(columns_for_training)].values    #we converted the columns_for_training dataset into a list\n",
    "dependent_labels = single_hop_data['Label'].values\n",
    "\n",
    "#now we split the data into 70% training and 30% testing\n",
    "X_train,X_test,y_train,y_test = train_test_split(characteristic, dependent_labels, test_size = 0.30)\n",
    "#Now we model the SVM, we will use the svm subfucntion SVC(support vector classifier)\n",
    "classifier = svm.SVC()\n",
    "\n",
    "#now we train the model using SVM and the training dataset using the fit method\n",
    "classifier.fit(X_train,y_train)\n",
    "#now we predict the data using predict method which will take in the X_test values randomly selected to predict the labels based on the model trained on the code above\n",
    "predicted_y_values = classifier.predict(X_test)\n",
    "#now that we have the prediction, we will compared it to the actual dependent dataset for labels which will take in the (actual, predicted) parameters\n",
    "#y_test represents the actual y values\n",
    "print(classification_report(y_test, predicted_y_values))\n",
    "#The code ends here\n",
    "\n",
    "#plot the temperature vs Humidity graph\n",
    "plt.scatter(single_hop_data['H'], single_hop_data['T'], color = 'red')\n",
    "plt.xlabel('Humidity')\n",
    "plt.ylabel('Temperature')\n",
    "plt.show()"
   ]
  },
  {
   "cell_type": "code",
   "execution_count": null,
   "id": "6d261298",
   "metadata": {},
   "outputs": [],
   "source": []
  }
 ],
 "metadata": {
  "kernelspec": {
   "display_name": "Python 3 (ipykernel)",
   "language": "python",
   "name": "python3"
  },
  "language_info": {
   "codemirror_mode": {
    "name": "ipython",
    "version": 3
   },
   "file_extension": ".py",
   "mimetype": "text/x-python",
   "name": "python",
   "nbconvert_exporter": "python",
   "pygments_lexer": "ipython3",
   "version": "3.9.12"
  }
 },
 "nbformat": 4,
 "nbformat_minor": 5
}
